{
  "nbformat": 4,
  "nbformat_minor": 0,
  "metadata": {
    "colab": {
      "name": "camera_calibration.ipynb",
      "provenance": [],
      "collapsed_sections": [],
      "authorship_tag": "ABX9TyMFvzC/FjOLl6wf9ofvFDp3",
      "include_colab_link": true
    },
    "kernelspec": {
      "name": "python3",
      "display_name": "Python 3"
    }
  },
  "cells": [
    {
      "cell_type": "markdown",
      "metadata": {
        "id": "view-in-github",
        "colab_type": "text"
      },
      "source": [
        "<a href=\"https://colab.research.google.com/github/mnzluca/IntroToAI/blob/master/Day%5C%2002/Notebooks/camera_calibration.ipynb\" target=\"_parent\"><img src=\"https://colab.research.google.com/assets/colab-badge.svg\" alt=\"Open In Colab\"/></a>"
      ]
    },
    {
      "cell_type": "code",
      "metadata": {
        "id": "ylqAiOMKieSh",
        "colab_type": "code",
        "colab": {
          "base_uri": "https://localhost:8080/",
          "height": 568
        },
        "outputId": "e9a752cb-174e-4471-b3cc-a1b1ca49cdf2"
      },
      "source": [
        "!pip install -q streamlit\n",
        "!wget https://bin.equinox.io/c/4VmDzA7iaHb/ngrok-stable-linux-amd64.zip\n",
        "!unzip ngrok-stable-linux-amd64.zip\n",
        "get_ipython().system_raw('./ngrok http 8501 &')\n",
        "\n",
        "!git clone https://github.com/marcozullich/camera_calibration.git\n",
        "\n",
        "import os\n",
        "os.chdir(\"camera_calibration\")\n",
        "\n",
        "!curl -s http://localhost:4040/api/tunnels | python3 -c \\\n",
        "    'import sys, json; print(\"Execute the next cell and the go to the following URL: \" +json.load(sys.stdin)[\"tunnels\"][0][\"public_url\"])'"
      ],
      "execution_count": 1,
      "outputs": [
        {
          "output_type": "stream",
          "text": [
            "\u001b[K     |████████████████████████████████| 7.2MB 2.6MB/s \n",
            "\u001b[K     |████████████████████████████████| 102kB 10.1MB/s \n",
            "\u001b[K     |████████████████████████████████| 4.4MB 47.9MB/s \n",
            "\u001b[K     |████████████████████████████████| 112kB 48.5MB/s \n",
            "\u001b[K     |████████████████████████████████| 122kB 46.7MB/s \n",
            "\u001b[?25h  Building wheel for watchdog (setup.py) ... \u001b[?25l\u001b[?25hdone\n",
            "  Building wheel for blinker (setup.py) ... \u001b[?25l\u001b[?25hdone\n",
            "  Building wheel for pathtools (setup.py) ... \u001b[?25l\u001b[?25hdone\n",
            "\u001b[31mERROR: google-colab 1.0.0 has requirement ipykernel~=4.10, but you'll have ipykernel 5.3.4 which is incompatible.\u001b[0m\n",
            "--2020-08-31 14:12:25--  https://bin.equinox.io/c/4VmDzA7iaHb/ngrok-stable-linux-amd64.zip\n",
            "Resolving bin.equinox.io (bin.equinox.io)... 34.205.198.58, 34.233.195.104, 3.229.170.137, ...\n",
            "Connecting to bin.equinox.io (bin.equinox.io)|34.205.198.58|:443... connected.\n",
            "HTTP request sent, awaiting response... 200 OK\n",
            "Length: 13773305 (13M) [application/octet-stream]\n",
            "Saving to: ‘ngrok-stable-linux-amd64.zip’\n",
            "\n",
            "ngrok-stable-linux- 100%[===================>]  13.13M  6.57MB/s    in 2.0s    \n",
            "\n",
            "2020-08-31 14:12:28 (6.57 MB/s) - ‘ngrok-stable-linux-amd64.zip’ saved [13773305/13773305]\n",
            "\n",
            "Archive:  ngrok-stable-linux-amd64.zip\n",
            "  inflating: ngrok                   \n",
            "Cloning into 'camera_calibration'...\n",
            "remote: Enumerating objects: 14, done.\u001b[K\n",
            "remote: Counting objects: 100% (14/14), done.\u001b[K\n",
            "remote: Compressing objects: 100% (13/13), done.\u001b[K\n",
            "remote: Total 393 (delta 3), reused 4 (delta 1), pack-reused 379\u001b[K\n",
            "Receiving objects: 100% (393/393), 258.07 MiB | 12.91 MiB/s, done.\n",
            "Resolving deltas: 100% (135/135), done.\n",
            "Execute the next cell and the go to the following URL: https://43488c10f1cb.ngrok.io\n"
          ],
          "name": "stdout"
        }
      ]
    },
    {
      "cell_type": "code",
      "metadata": {
        "id": "KoWl2G3Oi6g3",
        "colab_type": "code",
        "colab": {
          "base_uri": "https://localhost:8080/",
          "height": 788
        },
        "outputId": "b4b038b8-6da7-4618-e82b-3254849680f1"
      },
      "source": [
        "!streamlit run app.py\n"
      ],
      "execution_count": 2,
      "outputs": [
        {
          "output_type": "stream",
          "text": [
            "CAL\n",
            "\u001b[0m\n",
            "\u001b[34m\u001b[1m  You can now view your Streamlit app in your browser.\u001b[0m\n",
            "\u001b[0m\n",
            "\u001b[34m  Network URL: \u001b[0m\u001b[1mhttp://172.28.0.2:8501\u001b[0m\n",
            "\u001b[34m  External URL: \u001b[0m\u001b[1mhttp://34.80.193.139:8501\u001b[0m\n",
            "\u001b[0m\n",
            "image/jpeg\n",
            "image/jpeg\n",
            "image/jpeg\n",
            "image/jpeg\n",
            "image/jpeg\n",
            "image/jpeg\n",
            "image/jpeg\n",
            "image/jpeg\n",
            "image/jpeg\n",
            "image/jpeg\n",
            "image/jpeg\n",
            "image/jpeg\n",
            "image/jpeg\n",
            "image/jpeg\n",
            "image/jpeg\n",
            "image/jpeg\n",
            "image/jpeg\n",
            "image/jpeg\n",
            "image/jpeg\n",
            "image/jpeg\n",
            "image/jpeg\n",
            "image/jpeg\n",
            "image/jpeg\n",
            "image/jpeg\n",
            "image/jpeg\n",
            "image/jpeg\n",
            "image/jpeg\n",
            "image/jpeg\n",
            "image/jpeg\n",
            "image/jpeg\n",
            "image/jpeg\n",
            "image/jpeg\n",
            "image/jpeg\n",
            "\u001b[34m  Stopping...\u001b[0m\n",
            "\u001b[34m  Stopping...\u001b[0m\n"
          ],
          "name": "stdout"
        }
      ]
    }
  ]
}