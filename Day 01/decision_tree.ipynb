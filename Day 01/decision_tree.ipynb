{
  "nbformat": 4,
  "nbformat_minor": 0,
  "metadata": {
    "kernelspec": {
      "display_name": "Python 3",
      "language": "python",
      "name": "python3"
    },
    "language_info": {
      "codemirror_mode": {
        "name": "ipython",
        "version": 3
      },
      "file_extension": ".py",
      "mimetype": "text/x-python",
      "name": "python",
      "nbconvert_exporter": "python",
      "pygments_lexer": "ipython3",
      "version": "3.7.4"
    },
    "colab": {
      "name": "decision_tree.ipynb",
      "provenance": []
    }
  },
  "cells": [
    {
      "cell_type": "markdown",
      "metadata": {
        "id": "lw9W3dCNl-qt",
        "colab_type": "text"
      },
      "source": [
        "## DECISION TREES AND RANDOM FORESTS\n",
        "In questo notebook, esploreremo alberi di decisione e foreste casuali, in Python, sul dataset Iris.\n",
        "\n",
        "Un notebook è fatto da un insieme di celle, ognuna delle quali contiene o testo o codice. Le celle si eseguono o scegliendo run dal menu o premendo SHIFT+INVIO"
      ]
    },
    {
      "cell_type": "code",
      "metadata": {
        "id": "rPPR0iIcl-qv",
        "colab_type": "code",
        "colab": {}
      },
      "source": [
        "%matplotlib inline\n",
        "import pandas as pd\n",
        "import numpy as np\n",
        "from sklearn.model_selection import train_test_split\n",
        "from sklearn import tree, ensemble\n",
        "import seaborn as sns\n",
        "import matplotlib.pyplot as plt\n",
        "!wget https://raw.githubusercontent.com/mnzluca/IntroToAI/master/Day%2001/dt_aux.py\n",
        "from dt_aux import plot_tree, plot_decision_tree, plot_random_forest"
      ],
      "execution_count": null,
      "outputs": []
    },
    {
      "cell_type": "markdown",
      "metadata": {
        "id": "pL48ZL5pl-q3",
        "colab_type": "text"
      },
      "source": [
        "Ora carichiamo il dataset Iris e lo visualizziamo con un pairplot, che mostra per ogni coppia di features dei grafici di dispersione, nonchè una distribuzione del valori di ogni feature per classe. "
      ]
    },
    {
      "cell_type": "code",
      "metadata": {
        "id": "j99GjCDPl-q5",
        "colab_type": "code",
        "colab": {}
      },
      "source": [
        "iris = sns.load_dataset(\"iris\")"
      ],
      "execution_count": null,
      "outputs": []
    },
    {
      "cell_type": "code",
      "metadata": {
        "id": "BNyN6Hanl-q9",
        "colab_type": "code",
        "colab": {}
      },
      "source": [
        "features = ['sepal_length', 'sepal_width', 'petal_length', 'petal_width']\n",
        "ax = sns.pairplot(data=iris, hue=\"species\")"
      ],
      "execution_count": null,
      "outputs": []
    },
    {
      "cell_type": "markdown",
      "metadata": {
        "id": "zN9ZV1R4l-rA",
        "colab_type": "text"
      },
      "source": [
        "Facciamo ora uno zoom su lunghezza e larghezza dei petali (`petal_length` e `petal_width`) con uno scatterplot (colorando rispetto al tipo o classe di Iris)"
      ]
    },
    {
      "cell_type": "code",
      "metadata": {
        "id": "iVZRnAFrl-rB",
        "colab_type": "code",
        "colab": {}
      },
      "source": [
        "_ = sns.scatterplot(x=\"petal_length\", y=\"petal_width\", data=iris, hue=\"species\") "
      ],
      "execution_count": null,
      "outputs": []
    },
    {
      "cell_type": "markdown",
      "metadata": {
        "id": "T3g25jrcl-rF",
        "colab_type": "text"
      },
      "source": [
        "Dividiamo ora in modo casuale il dataset in due parti, `train` e `test` (circa 2/3 ed 1/3 dei dati), usando una funzione della libreria `scikit-learn`, che contiene molti metodi di machine learning e di ausilio alle analisi. Visualizziamo poi 10 elementi del dataset di train. "
      ]
    },
    {
      "cell_type": "code",
      "metadata": {
        "id": "zwEtv65ml-rG",
        "colab_type": "code",
        "colab": {}
      },
      "source": [
        "train,test = train_test_split(iris,test_size=0.33,stratify=iris['species'])\n",
        "train.head(10)"
      ],
      "execution_count": null,
      "outputs": []
    },
    {
      "cell_type": "markdown",
      "metadata": {
        "id": "DQTu1eLfl-rJ",
        "colab_type": "text"
      },
      "source": [
        "Vediamo ora la media per ogni feature, raggruppata per specie, usando i metodi di una libreria per la gestione dei dati, `pandas`."
      ]
    },
    {
      "cell_type": "code",
      "metadata": {
        "id": "o_t2gSnSl-rL",
        "colab_type": "code",
        "colab": {}
      },
      "source": [
        "train.groupby('species').mean()"
      ],
      "execution_count": null,
      "outputs": []
    },
    {
      "cell_type": "markdown",
      "metadata": {
        "id": "0yP0GAp2l-rQ",
        "colab_type": "text"
      },
      "source": [
        "Ora fissiamo la profondità dell''albero, inizializziamo un classificatore e lo addestriamo sul dataset di train. "
      ]
    },
    {
      "cell_type": "code",
      "metadata": {
        "id": "meazybS9l-rQ",
        "colab_type": "code",
        "colab": {}
      },
      "source": [
        "profondita = 2\n",
        "clf = tree.DecisionTreeClassifier(max_depth=profondita)\n",
        "clf = clf.fit(train[features], train['species'])\n",
        "classes = iris['species'].unique()\n",
        "plot_tree(clf,features,classes)"
      ],
      "execution_count": null,
      "outputs": []
    },
    {
      "cell_type": "markdown",
      "metadata": {
        "id": "T8oiP1Dfl-rV",
        "colab_type": "text"
      },
      "source": [
        "Qui vediamo accuracy di training e sul test set. Questa seconda è la cosa più rilevante. "
      ]
    },
    {
      "cell_type": "code",
      "metadata": {
        "id": "9AC023d5l-rW",
        "colab_type": "code",
        "colab": {}
      },
      "source": [
        "print(\"Train accuracy:\",clf.score(train[features], train['species']))\n",
        "print(\"Test accuracy:\",clf.score(test[features], test['species']))"
      ],
      "execution_count": null,
      "outputs": []
    },
    {
      "cell_type": "markdown",
      "metadata": {
        "id": "1erZbcsOl-rZ",
        "colab_type": "text"
      },
      "source": [
        "Qui visualizziamo la superficie di decisione, imparando un albero su due sole features, definite nella variabile `feature_set`. La variabile `profondita` regola la profondità dell'albero. "
      ]
    },
    {
      "cell_type": "code",
      "metadata": {
        "id": "o-G2WLDQl-ra",
        "colab_type": "code",
        "colab": {}
      },
      "source": [
        "feature_set = ['sepal_width','sepal_length']\n",
        "profondita = 2\n",
        "plot_decision_tree(train,test=test,pair=feature_set,max_depth=profondita,classes=classes)"
      ],
      "execution_count": null,
      "outputs": []
    },
    {
      "cell_type": "markdown",
      "metadata": {
        "id": "ShqKl9Kol-rc",
        "colab_type": "text"
      },
      "source": [
        "Se  inizializziamo `profondita` a `None`, l'albero avrà profondità massima. "
      ]
    },
    {
      "cell_type": "code",
      "metadata": {
        "id": "v8j6wjlLl-rd",
        "colab_type": "code",
        "colab": {}
      },
      "source": [
        "profondita = None\n",
        "plot_decision_tree(train,test=test,pair=feature_set,max_depth=profondita,classes=classes)"
      ],
      "execution_count": null,
      "outputs": []
    },
    {
      "cell_type": "markdown",
      "metadata": {
        "id": "qG7R_IoNl-rh",
        "colab_type": "text"
      },
      "source": [
        "Ora invece inizializziamo una random forest con 100 alberi di profondità 1 e la addestriamo sul dataset di train, valutandola su quello di test."
      ]
    },
    {
      "cell_type": "code",
      "metadata": {
        "id": "_VxvudBul-ri",
        "colab_type": "code",
        "colab": {}
      },
      "source": [
        "profondita = 1\n",
        "clf_rf = ensemble.RandomForestClassifier(n_estimators=100,max_depth=profondita)\n",
        "clf_rf = clf_rf.fit(train[features], train['species'])\n",
        "print(\"Test accuracy:\",clf_rf.score(test[features], test['species']))"
      ],
      "execution_count": null,
      "outputs": []
    },
    {
      "cell_type": "markdown",
      "metadata": {
        "id": "aO4tyWQhl-rl",
        "colab_type": "text"
      },
      "source": [
        "Infine visualizziamo la superficie di decision per la random forest e due features, sempre per 100 alberi a profondità 1."
      ]
    },
    {
      "cell_type": "code",
      "metadata": {
        "id": "XCJh4mfQl-rm",
        "colab_type": "code",
        "colab": {}
      },
      "source": [
        "profondita = 1\n",
        "clf_rf = ensemble.RandomForestClassifier(n_estimators=100,max_depth=profondita)\n",
        "feature_set = ['petal_width','petal_length']\n",
        "plot_random_forest(clf_rf,train,test=test,pair=feature_set,classes=classes)"
      ],
      "execution_count": null,
      "outputs": []
    },
    {
      "cell_type": "code",
      "metadata": {
        "id": "reUdEYh1l-rp",
        "colab_type": "code",
        "colab": {}
      },
      "source": [
        ""
      ],
      "execution_count": null,
      "outputs": []
    }
  ]
}