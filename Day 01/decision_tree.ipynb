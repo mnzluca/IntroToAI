{
 "cells": [
  {
   "cell_type": "markdown",
   "metadata": {},
   "source": [
    "## DECISION TREES AND RANDOM FORESTS\n",
    "In questo notebook, esploreremo alberi di decisione e foreste casuali, in Python, sul dataset Iris.\n",
    "\n",
    "Un notebook è fatto da un insieme di celle, ognuna delle quali contiene o testo o codice. Le celle si eseguono o scegliendo run dal menu o premendo SHIFT+INVIO"
   ]
  },
  {
   "cell_type": "code",
   "execution_count": null,
   "metadata": {},
   "outputs": [],
   "source": [
    "%matplotlib inline\n",
    "import pandas as pd\n",
    "import numpy as np\n",
    "from sklearn.model_selection import train_test_split\n",
    "from sklearn import tree, ensemble\n",
    "import seaborn as sns\n",
    "import matplotlib.pyplot as plt\n",
    "from dt_aux import plot_tree, plot_decision_tree, plot_random_forest"
   ]
  },
  {
   "cell_type": "markdown",
   "metadata": {},
   "source": [
    "Ora carichiamo il dataset Iris e lo visualizziamo con un pairplot, che mostra per ogni coppia di features dei grafici di dispersione, nonchè una distribuzione del valori di ogni feature per classe. "
   ]
  },
  {
   "cell_type": "code",
   "execution_count": null,
   "metadata": {},
   "outputs": [],
   "source": [
    "iris = sns.load_dataset(\"iris\")"
   ]
  },
  {
   "cell_type": "code",
   "execution_count": null,
   "metadata": {},
   "outputs": [],
   "source": [
    "features = ['sepal_length', 'sepal_width', 'petal_length', 'petal_width']\n",
    "ax = sns.pairplot(data=iris, hue=\"species\")"
   ]
  },
  {
   "cell_type": "markdown",
   "metadata": {},
   "source": [
    "Facciamo ora uno zoom su lunghezza e larghezza dei petali (`petal_length` e `petal_width`) con uno scatterplot (colorando rispetto al tipo o classe di Iris)"
   ]
  },
  {
   "cell_type": "code",
   "execution_count": null,
   "metadata": {},
   "outputs": [],
   "source": [
    "_ = sns.scatterplot(x=\"petal_length\", y=\"petal_width\", data=iris, hue=\"species\") "
   ]
  },
  {
   "cell_type": "markdown",
   "metadata": {},
   "source": [
    "Dividiamo ora in modo casuale il dataset in due parti, `train` e `test` (circa 2/3 ed 1/3 dei dati), usando una funzione della libreria `scikit-learn`, che contiene molti metodi di machine learning e di ausilio alle analisi. Visualizziamo poi 10 elementi del dataset di train. "
   ]
  },
  {
   "cell_type": "code",
   "execution_count": null,
   "metadata": {},
   "outputs": [],
   "source": [
    "train,test = train_test_split(iris,test_size=0.33,stratify=iris['species'])\n",
    "train.head(10)"
   ]
  },
  {
   "cell_type": "markdown",
   "metadata": {},
   "source": [
    "Vediamo ora la media per ogni feature, raggruppata per specie, usando i metodi di una libreria per la gestione dei dati, `pandas`."
   ]
  },
  {
   "cell_type": "code",
   "execution_count": null,
   "metadata": {},
   "outputs": [],
   "source": [
    "train.groupby('species').mean()"
   ]
  },
  {
   "cell_type": "markdown",
   "metadata": {},
   "source": [
    "Ora fissiamo la profondità dell''albero, inizializziamo un classificatore e lo addestriamo sul dataset di train. "
   ]
  },
  {
   "cell_type": "code",
   "execution_count": null,
   "metadata": {},
   "outputs": [],
   "source": [
    "profondita = 2\n",
    "clf = tree.DecisionTreeClassifier(max_depth=profondita)\n",
    "clf = clf.fit(train[features], train['species'])\n",
    "classes = iris['species'].unique()\n",
    "plot_tree(clf,features,classes)"
   ]
  },
  {
   "cell_type": "markdown",
   "metadata": {},
   "source": [
    "Qui vediamo accuracy di training e sul test set. Questa seconda è la cosa più rilevante. "
   ]
  },
  {
   "cell_type": "code",
   "execution_count": null,
   "metadata": {},
   "outputs": [],
   "source": [
    "print(\"Train accuracy:\",clf.score(train[features], train['species']))\n",
    "print(\"Test accuracy:\",clf.score(test[features], test['species']))"
   ]
  },
  {
   "cell_type": "markdown",
   "metadata": {},
   "source": [
    "Qui visualizziamo la superficie di decisione, imparando un albero su due sole features, definite nella variabile `feature_set`. La variabile `profondita` regola la profondità dell'albero. "
   ]
  },
  {
   "cell_type": "code",
   "execution_count": null,
   "metadata": {},
   "outputs": [],
   "source": [
    "feature_set = ['sepal_width','sepal_length']\n",
    "profondita = 2\n",
    "plot_decision_tree(train,test=test,pair=feature_set,max_depth=profondita,classes=classes)"
   ]
  },
  {
   "cell_type": "markdown",
   "metadata": {},
   "source": [
    "Se  inizializziamo `profondita` a `None`, l'albero avrà profondità massima. "
   ]
  },
  {
   "cell_type": "code",
   "execution_count": null,
   "metadata": {},
   "outputs": [],
   "source": [
    "profondita = None\n",
    "plot_decision_tree(train,test=test,pair=feature_set,max_depth=profondita,classes=classes)"
   ]
  },
  {
   "cell_type": "markdown",
   "metadata": {},
   "source": [
    "Ora invece inizializziamo una random forest con 100 alberi di profondità 1 e la addestriamo sul dataset di train, valutandola su quello di test."
   ]
  },
  {
   "cell_type": "code",
   "execution_count": null,
   "metadata": {},
   "outputs": [],
   "source": [
    "profondita = 1\n",
    "clf_rf = ensemble.RandomForestClassifier(n_estimators=100,max_depth=profondita)\n",
    "clf_rf = clf_rf.fit(train[features], train['species'])\n",
    "print(\"Test accuracy:\",clf_rf.score(test[features], test['species']))"
   ]
  },
  {
   "cell_type": "markdown",
   "metadata": {},
   "source": [
    "Infine visualizziamo la superficie di decision per la random forest e due features, sempre per 100 alberi a profondità 1."
   ]
  },
  {
   "cell_type": "code",
   "execution_count": null,
   "metadata": {},
   "outputs": [],
   "source": [
    "profondita = 1\n",
    "clf_rf = ensemble.RandomForestClassifier(n_estimators=100,max_depth=profondita)\n",
    "feature_set = ['petal_width','petal_length']\n",
    "plot_random_forest(clf_rf,train,test=test,pair=feature_set,classes=classes)"
   ]
  },
  {
   "cell_type": "code",
   "execution_count": null,
   "metadata": {},
   "outputs": [],
   "source": []
  }
 ],
 "metadata": {
  "kernelspec": {
   "display_name": "Python 3",
   "language": "python",
   "name": "python3"
  },
  "language_info": {
   "codemirror_mode": {
    "name": "ipython",
    "version": 3
   },
   "file_extension": ".py",
   "mimetype": "text/x-python",
   "name": "python",
   "nbconvert_exporter": "python",
   "pygments_lexer": "ipython3",
   "version": "3.7.4"
  }
 },
 "nbformat": 4,
 "nbformat_minor": 4
}
