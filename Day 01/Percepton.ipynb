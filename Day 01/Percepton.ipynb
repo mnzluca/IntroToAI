{
  "nbformat": 4,
  "nbformat_minor": 0,
  "metadata": {
    "colab": {
      "name": "Percepton.ipynb",
      "provenance": [],
      "collapsed_sections": []
    },
    "kernelspec": {
      "name": "python3",
      "display_name": "Python 3"
    }
  },
  "cells": [
    {
      "cell_type": "markdown",
      "metadata": {
        "id": "sTBoqt_8UK1B",
        "colab_type": "text"
      },
      "source": [
        "## Percettroni\n",
        "\n",
        "In questo notebook utilizzeremo una rete neurale (inizialmente senza strati nascosti) per separare le tre classi del dataset iris."
      ]
    },
    {
      "cell_type": "markdown",
      "metadata": {
        "id": "JxsrhUWMUe1O",
        "colab_type": "text"
      },
      "source": [
        "Iniziamo caricando alcune delle librerie che ci serviranno"
      ]
    },
    {
      "cell_type": "code",
      "metadata": {
        "id": "MG1KeF5ib5K9",
        "colab_type": "code",
        "colab": {}
      },
      "source": [
        "from sklearn import datasets\n",
        "import sklearn.neural_network as nn\n",
        "import matplotlib.pyplot as plt\n",
        "from mlxtend.plotting import plot_decision_regions\n",
        "\n",
        "plt.rcParams['figure.figsize'] = [12, 8]"
      ],
      "execution_count": null,
      "outputs": []
    },
    {
      "cell_type": "markdown",
      "metadata": {
        "id": "4Em7aBRAe0Nm",
        "colab_type": "text"
      },
      "source": [
        "Carichiamo ora il dataset *iris* e mostriamo solo due delle variabili: ```petal_width``` e ```petal_length```.\n",
        "\n"
      ]
    },
    {
      "cell_type": "code",
      "metadata": {
        "id": "E0LF4r3Ib8uq",
        "colab_type": "code",
        "colab": {}
      },
      "source": [
        "iris = datasets.load_iris()\n",
        "plt.scatter(iris.data[:,2], iris.data[:,3],c=iris.target)\n",
        "plt.show()"
      ],
      "execution_count": null,
      "outputs": []
    },
    {
      "cell_type": "markdown",
      "metadata": {
        "id": "sKhAoSABTokx",
        "colab_type": "text"
      },
      "source": [
        "Possiamo ora effettuare l'apprendimento usando una rete neurale. In ```hidden_layer_sizes``` abbiamo la dimensione degli strati nascosti della rete. Il valore ```[]``` indica che *non* abbiamo strati nascosti (e quindi classificheremo usando solo rette come superfici di separazione).\n",
        "\n",
        "Possiamo provare altri valori. Per esempio ```hidden_layer_sizes = [100]``` indica che la rete neurale ha un unico strato nascosto composto da $100$ neuroni."
      ]
    },
    {
      "cell_type": "code",
      "metadata": {
        "id": "kdqWfnq0cEE0",
        "colab_type": "code",
        "colab": {}
      },
      "source": [
        "p = nn.MLPClassifier(hidden_layer_sizes=[],\n",
        "                     solver='lbfgs',\n",
        "                     max_iter=100,\n",
        "                     random_state=1)\n",
        "p.fit(iris.data[:,[2,3]], iris.target)\n",
        "plot_decision_regions(iris.data[:,[2,3]], iris.target, clf=p)"
      ],
      "execution_count": null,
      "outputs": []
    }
  ]
}