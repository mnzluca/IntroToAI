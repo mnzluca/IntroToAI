{
 "nbformat": 4,
 "nbformat_minor": 0,
 "metadata": {
  "colab": {
   "name": "NLP.ipynb",
   "provenance": []
  },
  "kernelspec": {
   "name": "python3",
   "display_name": "Python 3"
  }
 },
 "cells": [
  {
   "cell_type": "markdown",
   "metadata": {
    "id": "83AuGdkQsp3Z",
    "colab_type": "text"
   },
   "source": [
    "In questo notebook faremo degli esperimenti di NLP\n",
    "Iniziamo con un po' \"import\" di librerie già pronte che ci serviranno.\n",
    "Per i più \"smanettoni\", useremo la libreria NLTK che ci offre degli strumenti già pronti per fare pratica con NLP."
   ]
  },
  {
   "cell_type": "code",
   "metadata": {
    "id": "DDF0nadZriYP",
    "colab_type": "code",
    "colab": {
     "base_uri": "https://localhost:8080/",
     "height": 535
    },
    "outputId": "bd54264b-55a8-40a7-f307-22170ac62d8c"
   },
   "source": [
    "!pip install wikipedia\n",
    "!wget https://raw.githubusercontent.com/mnzluca/IntroToAI/master/Day%2003/nlp_aux.py\n",
    "from nlp_aux import *"
   ],
   "execution_count": 5,
   "outputs": [
    {
     "output_type": "stream",
     "text": [
      "Requirement already satisfied: wikipedia in /usr/local/lib/python3.6/dist-packages (1.4.0)\n",
      "Requirement already satisfied: beautifulsoup4 in /usr/local/lib/python3.6/dist-packages (from wikipedia) (4.6.3)\n",
      "Requirement already satisfied: requests<3.0.0,>=2.0.0 in /usr/local/lib/python3.6/dist-packages (from wikipedia) (2.23.0)\n",
      "Requirement already satisfied: certifi>=2017.4.17 in /usr/local/lib/python3.6/dist-packages (from requests<3.0.0,>=2.0.0->wikipedia) (2020.6.20)\n",
      "Requirement already satisfied: urllib3!=1.25.0,!=1.25.1,<1.26,>=1.21.1 in /usr/local/lib/python3.6/dist-packages (from requests<3.0.0,>=2.0.0->wikipedia) (1.24.3)\n",
      "Requirement already satisfied: chardet<4,>=3.0.2 in /usr/local/lib/python3.6/dist-packages (from requests<3.0.0,>=2.0.0->wikipedia) (3.0.4)\n",
      "Requirement already satisfied: idna<3,>=2.5 in /usr/local/lib/python3.6/dist-packages (from requests<3.0.0,>=2.0.0->wikipedia) (2.10)\n",
      "--2020-09-02 07:37:41--  https://raw.githubusercontent.com/mnzluca/IntroToAI/master/Day%2003/nlp_aux.py\n",
      "Resolving raw.githubusercontent.com (raw.githubusercontent.com)... 151.101.0.133, 151.101.64.133, 151.101.128.133, ...\n",
      "Connecting to raw.githubusercontent.com (raw.githubusercontent.com)|151.101.0.133|:443... connected.\n",
      "HTTP request sent, awaiting response... 200 OK\n",
      "Length: 1775 (1.7K) [text/plain]\n",
      "Saving to: ‘nlp_aux.py.1’\n",
      "\n",
      "nlp_aux.py.1        100%[===================>]   1.73K  --.-KB/s    in 0s      \n",
      "\n",
      "2020-09-02 07:37:41 (24.2 MB/s) - ‘nlp_aux.py.1’ saved [1775/1775]\n",
      "\n",
      "[nltk_data] Downloading package wordnet to /root/nltk_data...\n",
      "[nltk_data]   Package wordnet is already up-to-date!\n",
      "[nltk_data] Downloading package omw to /root/nltk_data...\n",
      "[nltk_data]   Package omw is already up-to-date!\n",
      "[nltk_data] Downloading package stopwords to /root/nltk_data...\n",
      "[nltk_data]   Package stopwords is already up-to-date!\n",
      "[nltk_data] Downloading package movie_reviews to /root/nltk_data...\n",
      "[nltk_data]   Package movie_reviews is already up-to-date!\n",
      "[nltk_data] Downloading package punkt to /root/nltk_data...\n",
      "[nltk_data]   Package punkt is already up-to-date!\n",
      "[nltk_data] Downloading package treebank to /root/nltk_data...\n",
      "[nltk_data]   Package treebank is already up-to-date!\n"
     ],
     "name": "stdout"
    }
   ]
  },
  {
   "cell_type": "markdown",
   "source": [
    "Proviamo a costruire un vettore \"bag of words\" dalle pagine di wikipedia di \"Gatto\", \"Matto\" e \"Felino\". Ci aspettiamo che concetti simili abbiano profili simili. (Le pagine di wiki per Gatto, Matto e Felino sono \"Felis silvestris catus\", \"Il Matto\" e \"Felidae\")"
   ],
   "metadata": {
    "collapsed": false
   }
  },
  {
   "cell_type": "code",
   "execution_count": null,
   "outputs": [],
   "source": [
    "print(\"Profilo \"\"Gatto\"\"\")\n",
    "bow_gatto = wiki_bag_of_words(\"Felis silvestris catus\", n=10, print_bow=True)\n",
    "print(\"Profilo \"\"Matto\"\"\")\n",
    "bow_matto = wiki_bag_of_words(\"Il Matto\", n=10, print_bow=True)\n",
    "print(\"Profilo \"\"Felino\"\"\")\n",
    "bow_felino = wiki_bag_of_words(\"Felidae\", n=10, print_bow=True)"
   ],
   "metadata": {
    "collapsed": false,
    "pycharm": {
     "name": "#%%\n"
    }
   }
  },
  {
   "cell_type": "markdown",
   "source": [
    "Ad occhio possiamo vedere che non funziona: i profili sono molto simili e pieni di \"parole funzionali\" (stopword).\n",
    "Proviamo a misurare la distanza euclidea tra i vari profili"
   ],
   "metadata": {
    "collapsed": false
   }
  },
  {
   "cell_type": "code",
   "execution_count": null,
   "outputs": [],
   "source": [
    "d1 = bow_distance(bow_gatto, bow_felino)\n",
    "d2 = bow_distance(bow_gatto, bow_matto)\n",
    "print(\"Distanza tra \"\"Gatto\"\" e \"\"Felino\"\": {:.2f}\".format(d1))\n",
    "print(\"Distanza tra \"\"Gatto\"\" e \"\"Matto\"\": {:.2f}\".format(d2))"
   ],
   "metadata": {
    "collapsed": false,
    "pycharm": {
     "name": "#%%\n"
    }
   }
  },
  {
   "cell_type": "markdown",
   "source": [
    "Proviamo a rimuovere le parole funzionali (stopword) e poi misuriamo le distanze"
   ],
   "metadata": {
    "collapsed": false
   }
  },
  {
   "cell_type": "code",
   "execution_count": null,
   "outputs": [],
   "source": [
    "print(\"Profilo \"\"Gatto\"\" senza stopword\")\n",
    "bow_gatto = wiki_bag_of_words(\"Felis silvestris catus\", n=10, print_bow=True, remove_stop_words=True)\n",
    "print(\"Profilo \"\"Matto\"\" senza stopword\")\n",
    "bow_matto = wiki_bag_of_words(\"Il Matto\", n=10, print_bow=True, remove_stop_words=True)\n",
    "print(\"Profilo \"\"Felino\"\" senza stopword\")\n",
    "bow_felino = wiki_bag_of_words(\"Felidae\", n=10, print_bow=True, remove_stop_words=True)\n",
    "\n",
    "d1 = bow_distance(bow_gatto, bow_felino)\n",
    "d2 = bow_distance(bow_gatto, bow_matto)\n",
    "print(\"Distanza tra \"\"Gatto\"\" e \"\"Felino\"\": {:.2f}\".format(d1))\n",
    "print(\"Distanza tra \"\"Gatto\"\" e \"\"Matto\"\": {:.2f}\".format(d2))"
   ],
   "metadata": {
    "collapsed": false,
    "pycharm": {
     "name": "#%%\n"
    }
   }
  },
  {
   "cell_type": "markdown",
   "source": [
    "Usiamo l'algoritmo di Cavnar-Trenkle per identificare una lingua.\n",
    "L'algoritmo costruisce un profilo linguistico per ogni lingua usando (tanti) documenti già etichettati con la loro lingua.\n",
    "Il profilo è fatto contando i 300 n-grammi più frequqnti, con ne che va da 1 a 5.\n",
    "Per identificare la lingua di un documento ignoto si construisce il profilo linguistico di questo documento e si misura la distanza di \"ranking\" tra questo e i profili delle varie lingue. Il profilo a distanza minore sarà quello delle lingua più probabile."
   ],
   "metadata": {
    "collapsed": false
   }
  },
  {
   "cell_type": "code",
   "execution_count": null,
   "outputs": [],
   "source": [
    "detect_language(\"The pen is on the table\")"
   ],
   "metadata": {
    "collapsed": false,
    "pycharm": {
     "name": "#%%\n"
    }
   }
  },
  {
   "cell_type": "markdown",
   "metadata": {
    "id": "oBsPYav6iu2k",
    "colab_type": "text"
   },
   "source": [
    "detect_language(\"The pen is on the table\")"
   ]
  },
  {
   "cell_type": "code",
   "metadata": {
    "id": "Cb5JkNPaCs-o",
    "colab_type": "code",
    "colab": {
     "base_uri": "https://localhost:8080/",
     "height": 587
    },
    "outputId": "47da3194-6e7a-466b-cb8b-0099ac2f2921"
   },
   "source": [
    "print(\"Profilo \"\"Gatto\"\"\")\n",
    "bow_gatto = wiki_bag_of_words(\"Felis silvestris catus\", n=10, print_bow=True)\n",
    "print(\"Profilo \"\"Matto\"\"\")\n",
    "bow_matto = wiki_bag_of_words(\"Il Matto\", n=10, print_bow=True)\n",
    "print(\"Profilo \"\"Felino\"\"\")\n",
    "bow_felino = wiki_bag_of_words(\"Felidae\", n=10, print_bow=True)"
   ],
   "execution_count": 36,
   "outputs": [
    {
     "output_type": "stream",
     "text": [
      "Profilo Gatto\n",
      "di:     364\n",
      "e:     254\n",
      "il:     234\n",
      "la:     190\n",
      "gatto:     168\n",
      "è:     136\n",
      "in:     127\n",
      "che:     123\n",
      "del:     121\n",
      "i:     121\n",
      "Profilo Matto\n",
      "il:      54\n",
      "di:      46\n",
      "e:      41\n",
      "è:      37\n",
      "un:      32\n",
      "in:      32\n",
      "la:      32\n",
      "==:      20\n",
      "che:      20\n",
      "a:      19\n",
      "Profilo Felino\n",
      "-:      38\n",
      "di:      26\n",
      "gatto:      24\n",
      "e:      19\n",
      "genere:      16\n",
      "il:      12\n",
      "==:      12\n",
      "i:      11\n",
      "felidi:      11\n",
      "a:      11\n"
     ],
     "name": "stdout"
    }
   ]
  },
  {
   "cell_type": "markdown",
   "metadata": {
    "id": "MVs6BT1Zjee4",
    "colab_type": "text"
   },
   "source": [
    "Ad occhio possiamo vedere che non funziona: i profili sono molto simili e pieni di \"parole funzionali\" (stopword).\n",
    "Proviamo a misurare la distanza euclidea tra i vari profili"
   ]
  },
  {
   "cell_type": "code",
   "metadata": {
    "id": "oYw-YtO9GaKP",
    "colab_type": "code",
    "colab": {
     "base_uri": "https://localhost:8080/",
     "height": 52
    },
    "outputId": "9e26ca88-3f26-4d78-9c66-1d4ea4ca9b4b"
   },
   "source": [
    "d1 = bow_distance(bow_gatto, bow_felino)\n",
    "d2 = bow_distance(bow_gatto, bow_matto)\n",
    "print(\"Distanza tra \"\"Gatto\"\" e \"\"Felino\"\": {:.2f}\".format(d1))\n",
    "print(\"Distanza tra \"\"Gatto\"\" e \"\"Matto\"\": {:.2f}\".format(d2))"
   ],
   "execution_count": 40,
   "outputs": [
    {
     "output_type": "stream",
     "text": [
      "Distanza tra Gatto e Felino: 676.87\n",
      "Distanza tra Gatto e Matto: 619.01\n"
     ],
     "name": "stdout"
    }
   ]
  },
  {
   "cell_type": "markdown",
   "metadata": {
    "id": "yB6OXlprktXK",
    "colab_type": "text"
   },
   "source": [
    "Proviamo a rimuovere le parole funzionali (stopword) e poi misuriamo le distanze"
   ]
  },
  {
   "cell_type": "code",
   "metadata": {
    "id": "sA4U0LCTD6f9",
    "colab_type": "code",
    "colab": {
     "base_uri": "https://localhost:8080/",
     "height": 622
    },
    "outputId": "0daf0970-2328-4e0a-9c23-65ce9009df29"
   },
   "source": [
    "print(\"Profilo \"\"Gatto\"\" senza stopword\")\n",
    "bow_gatto = wiki_bag_of_words(\"Felis silvestris catus\", n=10, print_bow=True, remove_stop_words=True)\n",
    "print(\"Profilo \"\"Matto\"\" senza stopword\")\n",
    "bow_matto = wiki_bag_of_words(\"Il Matto\", n=10, print_bow=True, remove_stop_words=True)\n",
    "print(\"Profilo \"\"Felino\"\" senza stopword\")\n",
    "bow_felino = wiki_bag_of_words(\"Felidae\", n=10, print_bow=True, remove_stop_words=True)\n",
    "\n",
    "d1 = bow_distance(bow_gatto, bow_felino)\n",
    "d2 = bow_distance(bow_gatto, bow_matto)\n",
    "print(\"Distanza tra \"\"Gatto\"\" e \"\"Felino\"\": {:.2f}\".format(d1))\n",
    "print(\"Distanza tra \"\"Gatto\"\" e \"\"Matto\"\": {:.2f}\".format(d2))"
   ],
   "execution_count": 43,
   "outputs": [
    {
     "output_type": "stream",
     "text": [
      "Profilo Gatto senza stopword\n",
      "gatto:     168\n",
      "gatti:      76\n",
      "===:      54\n",
      "==:      32\n",
      "può:      31\n",
      "molto:      29\n",
      "pelo:      25\n",
      "serie:      25\n",
      "====:      22\n",
      "due:      21\n",
      "Profilo Matto senza stopword\n",
      "==:      20\n",
      "matto:      16\n",
      "the:      12\n",
      "può:      12\n",
      "altri:       9\n",
      "mazzi:       8\n",
      "rappresenta:       7\n",
      "tarocchi:       7\n",
      "spesso:       7\n",
      "tarocchi,:       7\n",
      "Profilo Felino senza stopword\n",
      "-:      38\n",
      "gatto:      24\n",
      "genere:      16\n",
      "==:      12\n",
      "felidi:      11\n",
      "famiglia:       9\n",
      "leopardus:       9\n",
      "felis:       8\n",
      "anni:       7\n",
      "lince:       7\n",
      "Distanza tra Gatto e Felino: 227.39\n",
      "Distanza tra Gatto e Matto: 237.00\n"
     ],
     "name": "stdout"
    }
   ]
  },
  {
   "cell_type": "markdown",
   "metadata": {
    "id": "yXgim3bSlUNo",
    "colab_type": "text"
   },
   "source": [
    "Usiamo l'algoritmo di Cavnar-Trenkle per identificare una lingua.\n",
    "L'algoritmo costruisce un profilo linguistico per ogni lingua usando (tanti) documenti già etichettati con la loro lingua.\n",
    "Il profilo è fatto contando i 300 n-grammi più frequqnti, con ne che va da 1 a 5.\n",
    "Per identificare la lingua di un documento ignoto si construisce il profilo linguistico di questo documento e si misura la distanza di \"ranking\" tra questo e i profili delle varie lingue. Il profilo a distanza minore sarà quello delle lingua più probabile."
   ]
  },
  {
   "cell_type": "code",
   "metadata": {
    "id": "otQHBJTDKxs8",
    "colab_type": "code",
    "colab": {
     "base_uri": "https://localhost:8080/",
     "height": 35
    },
    "outputId": "60f50234-047b-4179-d90b-5436c0a6ae34"
   },
   "source": [
    "detect_language(\"The pen is on the table\")"
   ],
   "execution_count": 34,
   "outputs": [
    {
     "output_type": "execute_result",
     "data": {
      "application/vnd.google.colaboratory.intrinsic+json": {
       "type": "string"
      },
      "text/plain": [
       "'english'"
      ]
     },
     "metadata": {
      "tags": []
     },
     "execution_count": 34
    }
   ]
  }
 ]
}