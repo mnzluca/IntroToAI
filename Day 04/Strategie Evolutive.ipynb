{
  "nbformat": 4,
  "nbformat_minor": 0,
  "metadata": {
    "kernelspec": {
      "display_name": "Python 3",
      "language": "python",
      "name": "python3"
    },
    "language_info": {
      "codemirror_mode": {
        "name": "ipython",
        "version": 3
      },
      "file_extension": ".py",
      "mimetype": "text/x-python",
      "name": "python",
      "nbconvert_exporter": "python",
      "pygments_lexer": "ipython3",
      "version": "3.7.3"
    },
    "colab": {
      "name": "evolution_strategies.ipynb",
      "provenance": []
    }
  },
  "cells": [
    {
      "cell_type": "markdown",
      "metadata": {
        "id": "rNaguMkhT0Q2",
        "colab_type": "text"
      },
      "source": [
        "# Strategie Evolutive"
      ]
    },
    {
      "cell_type": "markdown",
      "metadata": {
        "id": "QhjDKBfcT0Q4",
        "colab_type": "text"
      },
      "source": [
        "In questo notebook vedremo come funzionano le strategie evolutive $(\\mu,\\lambda)$ and $(\\mu + \\lambda)$ e le testeremo su funzioni a due dimensioni."
      ]
    },
    {
      "cell_type": "code",
      "metadata": {
        "id": "jq0tbf45T0Q5",
        "colab_type": "code",
        "colab": {}
      },
      "source": [
        "%matplotlib inline\n",
        "import matplotlib\n",
        "import numpy as np\n",
        "import matplotlib.cm as cm\n",
        "import matplotlib.pyplot as plt\n",
        "import random\n",
        "\n",
        "plt.rcParams['figure.figsize'] = [15, 15]"
      ],
      "execution_count": null,
      "outputs": []
    },
    {
      "cell_type": "markdown",
      "metadata": {
        "id": "a-FTRrVuT0RG",
        "colab_type": "text"
      },
      "source": [
        "Funzioni di benchamrk:\n",
        "\n",
        "- **Sfera**, definita come $$f(x, y) = x^2 + y^2$$ su $\\mathbb{R}^2$ (vedremo solo l'intervallo $[-5, 5]^2$), con minimo globale in $(0,0)$.\n",
        "\n",
        "- **Rastrigin**, definita come $$f(x, y) = 20 + x^2 - 10\\cos(2\\pi x) + y^2 - 10\\cos(2\\pi y)$$ nell'intervallo $[-5.12, 5.12]^2$, e ha un minimo globale in $(0,0)$.\n",
        "\n",
        "- **Ackley**, definita come $$f(x, y) = -20 e^{-0.2\\sqrt{0.5(x^2 - y^2)}} - e^{0.5(\\cos(2\\pi x) + \\cos(2\\pi y))} + e + 20$$ nell'intervallo $[-5,5]^2$, con minimo globale in $(0,0)$.\n",
        "\n",
        "- **Eggholder**, definita come $$f(x,y) = -(y+47)\\sin\\left(\\sqrt{\\left|\\frac{x}{2} + y + 47\\right|}\\right) - x\\sin(\\sqrt{|x-(y+47|})$$ nell'intervallo $[-512,+512]$, con minimo globale in $(512, 404.2319)$."
      ]
    },
    {
      "cell_type": "code",
      "metadata": {
        "id": "GhAWjrBcT0RH",
        "colab_type": "code",
        "colab": {}
      },
      "source": [
        "def sphere(point):\n",
        "    x, y = point\n",
        "    res = x**2 + y**2\n",
        "    return res\n",
        "\n",
        "def rastrigin(point):\n",
        "    x, y = point\n",
        "    res = 20 + (x**2 - 10*np.cos(2*np.pi*x)) + (y**2 - 10*np.cos(2*np.pi*y))\n",
        "    return res\n",
        "\n",
        "def ackley(point):\n",
        "    x, y = point\n",
        "    res = -20 * np.e**(-0.2*np.sqrt(0.5*(x**2 + y**2))) -np.e**(0.5*(np.cos(2*np.pi*x) + np.cos(2*np.pi*y))) + np.e + 20\n",
        "    return res\n",
        "\n",
        "def eggholder(point):\n",
        "    x, y = point\n",
        "    res = -(y + 47)*np.sin(np.sqrt(np.abs(x/2 + y + 47))) - x*np.sin(np.sqrt(np.abs(x-(y+47))))\n",
        "    return res"
      ],
      "execution_count": null,
      "outputs": []
    },
    {
      "cell_type": "markdown",
      "metadata": {
        "id": "9fBAy-vKT0RO",
        "colab_type": "text"
      },
      "source": [
        "Mostriamo ora i grafici delle funzioni di benchmark"
      ]
    },
    {
      "cell_type": "code",
      "metadata": {
        "id": "A2iZK5nIT0RP",
        "colab_type": "code",
        "colab": {}
      },
      "source": [
        "fig, ax = plt.subplots(2,2)\n",
        "plt.set_cmap('cool')\n",
        "\n",
        "# Plot for Sphere function\n",
        "x = np.linspace(-5, 5, 200)\n",
        "y = np.linspace(-5, 5, 200)\n",
        "X_SP, Y_SP = np.meshgrid(x, y)\n",
        "SP = sphere([X_SP, Y_SP])\n",
        "ax[0][0].contourf(X_SP, Y_SP, SP)\n",
        "ax[0][0].scatter([0], [0], marker='x', color='red')\n",
        "\n",
        "# Plot for Rastrigin function\n",
        "x = np.linspace(-5.12, 5.12, 200)\n",
        "y = np.linspace(-5.12, 5.12, 200)\n",
        "X_RS, Y_RS = np.meshgrid(x, y)\n",
        "RS = rastrigin([X_RS, Y_RS])\n",
        "ax[0][1].contourf(X_RS, Y_RS, RS)\n",
        "ax[0][1].scatter([0], [0], marker='x', color='red')\n",
        "\n",
        "# Plot for Ackley function\n",
        "x = np.linspace(-5, 5, 200)\n",
        "y = np.linspace(-5, 5, 200)\n",
        "X_AK, Y_AK = np.meshgrid(x, y)\n",
        "AK = ackley([X_AK, Y_AK])\n",
        "ax[1][0].contourf(X_AK, Y_AK, AK)\n",
        "ax[1][0].scatter([0], [0], marker='x', color='red')\n",
        "\n",
        "# Plot for Eggholder function\n",
        "x = np.linspace(-512, 550, 200)\n",
        "y = np.linspace(-512, 512, 200)\n",
        "X_EH, Y_EH = np.meshgrid(x, y)\n",
        "EH = eggholder([X_EH, Y_EH])\n",
        "ax[1][1].contourf(X_EH, Y_EH, EH)\n",
        "ax[1][1].scatter([512], [404.2319], marker='x', color='red')\n",
        "\n",
        "plt.show()"
      ],
      "execution_count": null,
      "outputs": []
    },
    {
      "cell_type": "markdown",
      "metadata": {
        "id": "SUNkur7eT0RT",
        "colab_type": "text"
      },
      "source": [
        "Qui definiamo le strategie evolutive con i paramtri `mu` e `lmb` che sono i valori $\\mu$ e $\\lambda$ delle ES.\n"
      ]
    },
    {
      "cell_type": "code",
      "metadata": {
        "id": "gyOpOEDnT0RU",
        "colab_type": "code",
        "colab": {}
      },
      "source": [
        "class EvolutionStrategy(object):\n",
        "    \n",
        "    def __init__(self, mu, lmb, fit, limits, plus=False, stddev=0.5):\n",
        "        self.mu = mu\n",
        "        self.lmb = lmb\n",
        "        self.plus = plus;\n",
        "        self.fit = fit\n",
        "        self.limits = limits\n",
        "        self.pop = []\n",
        "        self.stddev = 0.5\n",
        "        for i in range(0,self.lmb):\n",
        "            individual = []\n",
        "            for lower, upper in self.limits:\n",
        "                individual.append(random.uniform(lower, upper))\n",
        "            self.pop.append(individual)\n",
        "        self.best = min(self.pop, key=self.fit)\n",
        "    \n",
        "    def generation(self):\n",
        "        self.truncated_selection()\n",
        "        new_pop = []\n",
        "        for i in range(0, self.lmb):\n",
        "            new_ind = self.mutation(self.pop[i%self.mu])\n",
        "            new_pop.append(new_ind)\n",
        "        if self.plus:\n",
        "            self.pop = self.pop + new_pop\n",
        "        else:\n",
        "            self.pop = new_pop\n",
        "        candidate_best = min(self.pop, key=self.fit)\n",
        "        if self.fit(self.best) > self.fit(candidate_best):\n",
        "            self.best = candidate_best\n",
        "    \n",
        "    def mutation(self, individual):\n",
        "        # This is siimply the addition of a gaussian noise to each coordinate.\n",
        "        # There is the possibility of defining an *adaptive* mutation\n",
        "        new_ind = []\n",
        "        for i, coord in enumerate(individual):\n",
        "            tmp = coord + random.gauss(0, self.stddev)\n",
        "            if tmp < self.limits[i][0]:\n",
        "                tmp = self.limits[i][0]\n",
        "            if tmp > self.limits[i][1]:\n",
        "                tmp = self.limits[i][1]\n",
        "            new_ind.append(tmp)\n",
        "        return new_ind\n",
        "    \n",
        "    def truncated_selection(self):\n",
        "        list.sort(self.pop, key=self.fit)\n",
        "        self.pop = self.pop[0:self.mu]\n",
        "        \n",
        "    def __str__(self):\n",
        "        s = f\"Best individual: {self.best}\\n\"\n",
        "        s += f\"with fitness {self.fit(best)}\"\n",
        "        return s\n",
        "\n",
        "def display_pop2D(pop, ax):\n",
        "    ax.scatter([x for x, y in pop], [y for x, y in pop], color='yellow')"
      ],
      "execution_count": null,
      "outputs": []
    },
    {
      "cell_type": "code",
      "metadata": {
        "id": "MMSuUL4mT0RW",
        "colab_type": "code",
        "colab": {}
      },
      "source": [
        "def display_evolution(pop_list, row, columns, X, Y, function, opt=[0,0]):\n",
        "    n_gen = len(pop_list) - 1;\n",
        "    fig, ax = plt.subplots(row, columns)\n",
        "    for i in range(0,row):\n",
        "        for j in range(0,columns):\n",
        "            ax[i][j].contourf(X, Y, function)\n",
        "            ax[i][j].scatter(opt[0], opt[1], marker='x', color='red')\n",
        "            gen = (columns*i+j)*(n_gen//(row*columns-1))\n",
        "            display_pop2D(pop_list[gen], ax[i][j])\n",
        "    plt.show()"
      ],
      "execution_count": null,
      "outputs": []
    },
    {
      "cell_type": "code",
      "metadata": {
        "id": "HhsJWjMJT0Rf",
        "colab_type": "code",
        "colab": {}
      },
      "source": [
        "random.seed(0)\n",
        "ES = EvolutionStrategy(1, 3, sphere, [[-5, 5], [-5, 5]], plus=True)\n",
        "pop_list = [ES.pop]\n",
        "n_gen = 600\n",
        "for i in range(0, n_gen):\n",
        "    ES.generation()\n",
        "    pop_list.append(ES.pop)\n",
        "display_evolution(pop_list, 3, 3, X_SP, Y_SP, SP)"
      ],
      "execution_count": null,
      "outputs": []
    },
    {
      "cell_type": "code",
      "metadata": {
        "id": "Wg00rQXAT0Rs",
        "colab_type": "code",
        "colab": {}
      },
      "source": [
        "random.seed(0)\n",
        "ES = EvolutionStrategy(1, 3, rastrigin, [[-5.12, 5.12], [-5.12, 5.12]], plus=True)\n",
        "pop_list = [ES.pop]\n",
        "n_gen = 600\n",
        "for i in range(0, n_gen):\n",
        "    ES.generation()\n",
        "    pop_list.append(ES.pop)\n",
        "display_evolution(pop_list, 3, 3, X_RS, Y_RS, RS)"
      ],
      "execution_count": null,
      "outputs": []
    },
    {
      "cell_type": "code",
      "metadata": {
        "id": "iIfbxgfeT0Rw",
        "colab_type": "code",
        "colab": {}
      },
      "source": [
        "random.seed(0)\n",
        "ES = EvolutionStrategy(1, 3, ackley, [[-5, 5], [-5, 5]], plus=True)\n",
        "pop_list = [ES.pop]\n",
        "n_gen = 600\n",
        "for i in range(0, n_gen):\n",
        "    ES.generation()\n",
        "    pop_list.append(ES.pop)\n",
        "display_evolution(pop_list, 3, 3, X_AK, Y_AK, AK)"
      ],
      "execution_count": null,
      "outputs": []
    },
    {
      "cell_type": "code",
      "metadata": {
        "id": "y-RFv2-FT0Ry",
        "colab_type": "code",
        "colab": {}
      },
      "source": [
        "random.seed(0)\n",
        "ES = EvolutionStrategy(1, 3, eggholder, [[-512, 512], [-512, 512]], plus=True, stddev=1)\n",
        "pop_list = [ES.pop]\n",
        "n_gen = 600\n",
        "for i in range(0, n_gen):\n",
        "    ES.generation()\n",
        "    pop_list.append(ES.pop)\n",
        "display_evolution(pop_list, 3, 3, X_EH, Y_EH, EH, opt=[512,404.2319])"
      ],
      "execution_count": null,
      "outputs": []
    }
  ]
}