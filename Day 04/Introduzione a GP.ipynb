{
  "nbformat": 4,
  "nbformat_minor": 0,
  "metadata": {
    "kernelspec": {
      "display_name": "Python 3",
      "language": "python",
      "name": "python3"
    },
    "language_info": {
      "codemirror_mode": {
        "name": "ipython",
        "version": 3
      },
      "file_extension": ".py",
      "mimetype": "text/x-python",
      "name": "python",
      "nbconvert_exporter": "python",
      "pygments_lexer": "ipython3",
      "version": "3.7.3"
    },
    "colab": {
      "name": "intro_to_GP.ipynb",
      "provenance": []
    }
  },
  "cells": [
    {
      "cell_type": "markdown",
      "metadata": {
        "id": "UFGUkmMpPWTD",
        "colab_type": "text"
      },
      "source": [
        "# Programmazione Genetica"
      ]
    },
    {
      "cell_type": "markdown",
      "metadata": {
        "id": "Ai6suGeWPWTE",
        "colab_type": "text"
      },
      "source": [
        "\n",
        "In questo esempio utilizzeremo [GPLearn](https://github.com/trevorstephens/gplearn), una libreria Python per la programmazione genetica. In questo esempio vedremo un problema di regressione simbolica in due dimensioni (i.e., con due variabili di input).\n",
        "\n"
      ]
    },
    {
      "cell_type": "markdown",
      "metadata": {
        "id": "eqeYHjE7PWTH",
        "colab_type": "text"
      },
      "source": [
        "Prima di tutto importiamo tutte le librerie necessarie."
      ]
    },
    {
      "cell_type": "code",
      "metadata": {
        "id": "Wtg-vSKpPWTJ",
        "colab_type": "code",
        "colab": {}
      },
      "source": [
        "%matplotlib inline\n",
        "!pip install gplearn\n",
        "import gplearn.genetic as gp\n",
        "import numpy as np\n",
        "from mpl_toolkits.mplot3d import Axes3D\n",
        "import matplotlib.pyplot as plt\n",
        "import matplotlib\n",
        "import sklearn.utils as skutil\n",
        "from ipywidgets import interact, interactive, fixed, interact_manual\n",
        "import ipywidgets as widgets"
      ],
      "execution_count": null,
      "outputs": []
    },
    {
      "cell_type": "markdown",
      "metadata": {
        "id": "s8e3Rgj_PWTR",
        "colab_type": "text"
      },
      "source": [
        "Definiamo come funzione target $f(x,y) = \\sin(3x) + \\sin(3y)$. Possiamo cambiarla con qualsiasi altra funzione. Notate che questa *non* è la funzione di fitness, ma la funzione che vogliamo trovare: il nostro ottimo globale. La fitness sarà una misura della distanza da questa funzione."
      ]
    },
    {
      "cell_type": "code",
      "metadata": {
        "id": "IU7ywcZnPWTS",
        "colab_type": "code",
        "colab": {}
      },
      "source": [
        "def target(x, y):\n",
        "    return np.sin(3*x) + np.sin(3*y)"
      ],
      "execution_count": null,
      "outputs": []
    },
    {
      "cell_type": "markdown",
      "metadata": {
        "id": "qqG8MI8sPWTW",
        "colab_type": "text"
      },
      "source": [
        "La funzione obiettivo $f$ è valutata su $10^5$ punti in $[-1,1] \\times [-1,1]$, un quadrato di lato $2$ centrato in $(0,0)$."
      ]
    },
    {
      "cell_type": "code",
      "metadata": {
        "id": "EIYaQGgrPWTY",
        "colab_type": "code",
        "colab": {}
      },
      "source": [
        "x_coords = np.linspace(-1, 1, 100)\n",
        "y_coords = np.linspace(-1, 1, 100)\n",
        "x_coords, y_coords = np.meshgrid(x_coords,y_coords)\n",
        "target_points = target(x_coords,y_coords)"
      ],
      "execution_count": null,
      "outputs": []
    },
    {
      "cell_type": "markdown",
      "metadata": {
        "id": "g7Wcsw7hPWTb",
        "colab_type": "text"
      },
      "source": [
        "Possiamo ora visualizzare la forma della funzione che vogliamo apprendere."
      ]
    },
    {
      "cell_type": "code",
      "metadata": {
        "id": "xJ3iu6kiPWTc",
        "colab_type": "code",
        "colab": {}
      },
      "source": [
        "figure = plt.figure().gca(projection='3d')\n",
        "figure.set_xlim(-1,1)\n",
        "figure.set_ylim(-1,1)\n",
        "figure.set_xticks(np.arange(-1,1,.5))\n",
        "figure.set_yticks(np.arange(-1,1,.5))\n",
        "figure.plot_surface(x_coords, y_coords, target_points, alpha=0.5)\n",
        "plt.show()"
      ],
      "execution_count": null,
      "outputs": []
    },
    {
      "cell_type": "markdown",
      "metadata": {
        "id": "V_Z0rNFEPWTg",
        "colab_type": "text"
      },
      "source": [
        "Per il processo di apprendimento, valuteremo quanto la funzione scelta approssima $100$ punti selezionati casualmente in $[-1,1]\\times[-1,1]$. Questo significa che GP non conosce la funzione, ma solo un sottoinsieme di punti su cui essa viene valutata."
      ]
    },
    {
      "cell_type": "code",
      "metadata": {
        "id": "A8UOXDm4PWTh",
        "colab_type": "code",
        "colab": {}
      },
      "source": [
        "rng = skutil.check_random_state(0)\n",
        "\n",
        "x_train = rng.uniform(-1, 1, 100).reshape(50, 2)\n",
        "y_train = target(x_train[:, 0], x_train[:, 1])"
      ],
      "execution_count": null,
      "outputs": []
    },
    {
      "cell_type": "markdown",
      "metadata": {
        "id": "G00A5eifPWTj",
        "colab_type": "text"
      },
      "source": [
        "Effettuiamo un run di GP. Il set di simboli funzionali contiene $+$, $\\times$, $-$ e $\\div$, e anche le funzioni $\\sin$, $\\cos$, $\\sqrt{\\cdot}$. Provate a cambiare per vedere come cambia il processo di evoluzione."
      ]
    },
    {
      "cell_type": "code",
      "metadata": {
        "id": "sx0qC4UjPWTj",
        "colab_type": "code",
        "colab": {}
      },
      "source": [
        "fset=('add', 'sub', 'mul', 'div', 'sin', 'cos', 'sqrt')\n",
        "predicted_data = []\n",
        "max_gen = 31\n",
        "sr = gp.SymbolicRegressor(population_size=500,\n",
        "                          generations=1,\n",
        "                          function_set=fset,\n",
        "                          stopping_criteria=0.01,\n",
        "                          p_crossover=0.8, # Probabilità di crossover\n",
        "                          p_subtree_mutation=0.1, # Probabilità di mutazione\n",
        "                          p_hoist_mutation=0.05, # Differente tipologia di mutazione\n",
        "                          p_point_mutation=0.05, # Altra tipologia di mutazione\n",
        "                          parsimony_coefficient=0.01, # Fattore di penalizzazione per alberi grandi\n",
        "                          verbose=0,\n",
        "                          random_state=0,\n",
        "                          warm_start=True)\n",
        "for i in range(0, max_gen):\n",
        "    sr.set_params(generations=i+1)\n",
        "    sr.fit(x_train, y_train)\n",
        "    predicted_data.append(sr.predict(np.c_[x_coords.ravel(),y_coords.ravel()]).reshape(x_coords.shape))"
      ],
      "execution_count": null,
      "outputs": []
    },
    {
      "cell_type": "markdown",
      "metadata": {
        "id": "ENpL_-xdPWTl",
        "colab_type": "text"
      },
      "source": [
        "Visualizziamo ora come cambia la funzione trovata da GP al passare delle generazioni."
      ]
    },
    {
      "cell_type": "code",
      "metadata": {
        "id": "_fhdIMYUPWTl",
        "colab_type": "code",
        "colab": {}
      },
      "source": [
        "def print_results(i):\n",
        "    figure = plt.figure().gca(projection='3d')\n",
        "    figure.set_xlim(-1,1)\n",
        "    figure.set_ylim(-1,1)\n",
        "    figure.set_xticks(np.arange(-1,1,.5))\n",
        "    figure.set_yticks(np.arange(-1,1,.5))\n",
        "    figure.plot_surface(x_coords, y_coords, predicted_data[i], alpha=0.5, color='red')\n",
        "    figure.plot_surface(x_coords, y_coords, target_points, alpha=0.1)\n",
        "\n",
        "interact(print_results, i=widgets.IntSlider(min=0,max=30,step=5,value=0))\n",
        "plt.show()"
      ],
      "execution_count": null,
      "outputs": []
    },
    {
      "cell_type": "markdown",
      "metadata": {
        "id": "v0lzWh8jPWTq",
        "colab_type": "text"
      },
      "source": [
        "Come è possibile osservare, attorno alla generazione $30$ il processo di GP trova l'ottimo."
      ]
    }
  ]
}